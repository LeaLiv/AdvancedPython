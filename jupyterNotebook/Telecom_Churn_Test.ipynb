{
 "cells": [
  {
   "cell_type": "markdown",
   "metadata": {
    "id": "neyZFZS-9xjI"
   },
   "source": [
    "#### 1. Dataframe basics"
   ]
  },
  {
   "cell_type": "markdown",
   "metadata": {
    "id": "TGbfkr559xjd"
   },
   "source": [
    "#### 1.1. Import pandas and reffered the package as pd + Load \"telecom_churn.csv\" and assign in to the variable df <span style= color:#0033cc>(3 points)</span>"
   ]
  },
  {
   "cell_type": "code",
   "execution_count": 1,
   "metadata": {
    "id": "F9kNhaZb9xjh"
   },
   "outputs": [
    {
     "name": "stdout",
     "output_type": "stream",
     "text": [
      "Defaulting to user installation because normal site-packages is not writeable\n",
      "Collecting pandas\n",
      "  Using cached pandas-2.2.3-cp313-cp313-win_amd64.whl.metadata (19 kB)\n",
      "Collecting numpy>=1.26.0 (from pandas)\n",
      "  Using cached numpy-2.2.6-cp313-cp313-win_amd64.whl.metadata (60 kB)\n",
      "Requirement already satisfied: python-dateutil>=2.8.2 in c:\\users\\leahl\\appdata\\roaming\\python\\python313\\site-packages (from pandas) (2.9.0.post0)\n",
      "Collecting pytz>=2020.1 (from pandas)\n",
      "  Using cached pytz-2025.2-py2.py3-none-any.whl.metadata (22 kB)\n",
      "Collecting tzdata>=2022.7 (from pandas)\n",
      "  Using cached tzdata-2025.2-py2.py3-none-any.whl.metadata (1.4 kB)\n",
      "Requirement already satisfied: six>=1.5 in c:\\users\\leahl\\appdata\\roaming\\python\\python313\\site-packages (from python-dateutil>=2.8.2->pandas) (1.17.0)\n",
      "Downloading pandas-2.2.3-cp313-cp313-win_amd64.whl (11.5 MB)\n",
      "   ---------------------------------------- 0.0/11.5 MB ? eta -:--:--\n",
      "   ---------------------------------------- 0.0/11.5 MB ? eta -:--:--\n",
      "   -- ------------------------------------- 0.8/11.5 MB 2.9 MB/s eta 0:00:04\n",
      "   ---- ----------------------------------- 1.3/11.5 MB 3.0 MB/s eta 0:00:04\n",
      "   ------ --------------------------------- 1.8/11.5 MB 2.7 MB/s eta 0:00:04\n",
      "   --------- ------------------------------ 2.6/11.5 MB 2.9 MB/s eta 0:00:04\n",
      "   ---------- ----------------------------- 3.1/11.5 MB 2.9 MB/s eta 0:00:03\n",
      "   ------------ --------------------------- 3.7/11.5 MB 2.8 MB/s eta 0:00:03\n",
      "   -------------- ------------------------- 4.2/11.5 MB 2.7 MB/s eta 0:00:03\n",
      "   ----------------- ---------------------- 5.0/11.5 MB 2.8 MB/s eta 0:00:03\n",
      "   ------------------- -------------------- 5.5/11.5 MB 2.8 MB/s eta 0:00:03\n",
      "   --------------------- ------------------ 6.0/11.5 MB 2.8 MB/s eta 0:00:02\n",
      "   ----------------------- ---------------- 6.8/11.5 MB 2.8 MB/s eta 0:00:02\n",
      "   ------------------------ --------------- 7.1/11.5 MB 2.9 MB/s eta 0:00:02\n",
      "   --------------------------- ------------ 7.9/11.5 MB 2.8 MB/s eta 0:00:02\n",
      "   ----------------------------- ---------- 8.4/11.5 MB 2.9 MB/s eta 0:00:02\n",
      "   -------------------------------- ------- 9.4/11.5 MB 2.9 MB/s eta 0:00:01\n",
      "   --------------------------------- ------ 9.7/11.5 MB 2.9 MB/s eta 0:00:01\n",
      "   ------------------------------------ --- 10.5/11.5 MB 2.9 MB/s eta 0:00:01\n",
      "   -------------------------------------- - 11.0/11.5 MB 2.9 MB/s eta 0:00:01\n",
      "   ---------------------------------------  11.3/11.5 MB 2.9 MB/s eta 0:00:01\n",
      "   ---------------------------------------- 11.5/11.5 MB 2.7 MB/s eta 0:00:00\n",
      "Using cached numpy-2.2.6-cp313-cp313-win_amd64.whl (12.6 MB)\n",
      "Downloading pytz-2025.2-py2.py3-none-any.whl (509 kB)\n",
      "Downloading tzdata-2025.2-py2.py3-none-any.whl (347 kB)\n",
      "Installing collected packages: pytz, tzdata, numpy, pandas\n",
      "Successfully installed numpy-2.2.6 pandas-2.2.3 pytz-2025.2 tzdata-2025.2\n"
     ]
    },
    {
     "name": "stderr",
     "output_type": "stream",
     "text": [
      "\n",
      "[notice] A new release of pip is available: 25.0.1 -> 25.1.1\n",
      "[notice] To update, run: python.exe -m pip install --upgrade pip\n"
     ]
    }
   ],
   "source": [
    "!pip install pandas\n",
    "import pandas as pd"
   ]
  },
  {
   "cell_type": "code",
   "execution_count": 2,
   "metadata": {},
   "outputs": [],
   "source": [
    "df = pd.read_csv('telecom_churn.csv');"
   ]
  },
  {
   "cell_type": "code",
   "execution_count": 22,
   "metadata": {},
   "outputs": [
    {
     "data": {
      "text/html": [
       "<div>\n",
       "<style scoped>\n",
       "    .dataframe tbody tr th:only-of-type {\n",
       "        vertical-align: middle;\n",
       "    }\n",
       "\n",
       "    .dataframe tbody tr th {\n",
       "        vertical-align: top;\n",
       "    }\n",
       "\n",
       "    .dataframe thead th {\n",
       "        text-align: right;\n",
       "    }\n",
       "</style>\n",
       "<table border=\"1\" class=\"dataframe\">\n",
       "  <thead>\n",
       "    <tr style=\"text-align: right;\">\n",
       "      <th></th>\n",
       "      <th>State</th>\n",
       "      <th>Account length</th>\n",
       "      <th>Area code</th>\n",
       "      <th>International plan</th>\n",
       "      <th>Voice mail plan</th>\n",
       "      <th>Number vmail messages</th>\n",
       "      <th>Total day minutes</th>\n",
       "      <th>Total day calls</th>\n",
       "      <th>Total day charge</th>\n",
       "      <th>Total eve minutes</th>\n",
       "      <th>Total eve calls</th>\n",
       "      <th>Total eve charge</th>\n",
       "      <th>Total night minutes</th>\n",
       "      <th>Total night calls</th>\n",
       "      <th>Total night charge</th>\n",
       "      <th>Total intl minutes</th>\n",
       "      <th>Total intl calls</th>\n",
       "      <th>Total intl charge</th>\n",
       "      <th>Customer service calls</th>\n",
       "      <th>Churn</th>\n",
       "    </tr>\n",
       "  </thead>\n",
       "  <tbody>\n",
       "    <tr>\n",
       "      <th>0</th>\n",
       "      <td>KS</td>\n",
       "      <td>128</td>\n",
       "      <td>415</td>\n",
       "      <td>No</td>\n",
       "      <td>Yes</td>\n",
       "      <td>25</td>\n",
       "      <td>265.1</td>\n",
       "      <td>110</td>\n",
       "      <td>45.07</td>\n",
       "      <td>197.4</td>\n",
       "      <td>99</td>\n",
       "      <td>16.78</td>\n",
       "      <td>244.7</td>\n",
       "      <td>91</td>\n",
       "      <td>11.01</td>\n",
       "      <td>10.0</td>\n",
       "      <td>3</td>\n",
       "      <td>2.70</td>\n",
       "      <td>1</td>\n",
       "      <td>0</td>\n",
       "    </tr>\n",
       "    <tr>\n",
       "      <th>1</th>\n",
       "      <td>OH</td>\n",
       "      <td>107</td>\n",
       "      <td>415</td>\n",
       "      <td>No</td>\n",
       "      <td>Yes</td>\n",
       "      <td>26</td>\n",
       "      <td>161.6</td>\n",
       "      <td>123</td>\n",
       "      <td>27.47</td>\n",
       "      <td>195.5</td>\n",
       "      <td>103</td>\n",
       "      <td>16.62</td>\n",
       "      <td>254.4</td>\n",
       "      <td>103</td>\n",
       "      <td>11.45</td>\n",
       "      <td>13.7</td>\n",
       "      <td>3</td>\n",
       "      <td>3.70</td>\n",
       "      <td>1</td>\n",
       "      <td>0</td>\n",
       "    </tr>\n",
       "    <tr>\n",
       "      <th>2</th>\n",
       "      <td>NJ</td>\n",
       "      <td>137</td>\n",
       "      <td>415</td>\n",
       "      <td>No</td>\n",
       "      <td>No</td>\n",
       "      <td>0</td>\n",
       "      <td>243.4</td>\n",
       "      <td>114</td>\n",
       "      <td>41.38</td>\n",
       "      <td>121.2</td>\n",
       "      <td>110</td>\n",
       "      <td>10.30</td>\n",
       "      <td>162.6</td>\n",
       "      <td>104</td>\n",
       "      <td>7.32</td>\n",
       "      <td>12.2</td>\n",
       "      <td>5</td>\n",
       "      <td>3.29</td>\n",
       "      <td>0</td>\n",
       "      <td>0</td>\n",
       "    </tr>\n",
       "    <tr>\n",
       "      <th>3</th>\n",
       "      <td>OH</td>\n",
       "      <td>84</td>\n",
       "      <td>408</td>\n",
       "      <td>Yes</td>\n",
       "      <td>No</td>\n",
       "      <td>0</td>\n",
       "      <td>299.4</td>\n",
       "      <td>71</td>\n",
       "      <td>50.90</td>\n",
       "      <td>61.9</td>\n",
       "      <td>88</td>\n",
       "      <td>5.26</td>\n",
       "      <td>196.9</td>\n",
       "      <td>89</td>\n",
       "      <td>8.86</td>\n",
       "      <td>6.6</td>\n",
       "      <td>7</td>\n",
       "      <td>1.78</td>\n",
       "      <td>2</td>\n",
       "      <td>0</td>\n",
       "    </tr>\n",
       "    <tr>\n",
       "      <th>4</th>\n",
       "      <td>OK</td>\n",
       "      <td>75</td>\n",
       "      <td>415</td>\n",
       "      <td>Yes</td>\n",
       "      <td>No</td>\n",
       "      <td>0</td>\n",
       "      <td>166.7</td>\n",
       "      <td>113</td>\n",
       "      <td>28.34</td>\n",
       "      <td>148.3</td>\n",
       "      <td>122</td>\n",
       "      <td>12.61</td>\n",
       "      <td>186.9</td>\n",
       "      <td>121</td>\n",
       "      <td>8.41</td>\n",
       "      <td>10.1</td>\n",
       "      <td>3</td>\n",
       "      <td>2.73</td>\n",
       "      <td>3</td>\n",
       "      <td>0</td>\n",
       "    </tr>\n",
       "    <tr>\n",
       "      <th>...</th>\n",
       "      <td>...</td>\n",
       "      <td>...</td>\n",
       "      <td>...</td>\n",
       "      <td>...</td>\n",
       "      <td>...</td>\n",
       "      <td>...</td>\n",
       "      <td>...</td>\n",
       "      <td>...</td>\n",
       "      <td>...</td>\n",
       "      <td>...</td>\n",
       "      <td>...</td>\n",
       "      <td>...</td>\n",
       "      <td>...</td>\n",
       "      <td>...</td>\n",
       "      <td>...</td>\n",
       "      <td>...</td>\n",
       "      <td>...</td>\n",
       "      <td>...</td>\n",
       "      <td>...</td>\n",
       "      <td>...</td>\n",
       "    </tr>\n",
       "    <tr>\n",
       "      <th>3328</th>\n",
       "      <td>AZ</td>\n",
       "      <td>192</td>\n",
       "      <td>415</td>\n",
       "      <td>No</td>\n",
       "      <td>Yes</td>\n",
       "      <td>36</td>\n",
       "      <td>156.2</td>\n",
       "      <td>77</td>\n",
       "      <td>26.55</td>\n",
       "      <td>215.5</td>\n",
       "      <td>126</td>\n",
       "      <td>18.32</td>\n",
       "      <td>279.1</td>\n",
       "      <td>83</td>\n",
       "      <td>12.56</td>\n",
       "      <td>9.9</td>\n",
       "      <td>6</td>\n",
       "      <td>2.67</td>\n",
       "      <td>2</td>\n",
       "      <td>0</td>\n",
       "    </tr>\n",
       "    <tr>\n",
       "      <th>3329</th>\n",
       "      <td>WV</td>\n",
       "      <td>68</td>\n",
       "      <td>415</td>\n",
       "      <td>No</td>\n",
       "      <td>No</td>\n",
       "      <td>0</td>\n",
       "      <td>231.1</td>\n",
       "      <td>57</td>\n",
       "      <td>39.29</td>\n",
       "      <td>153.4</td>\n",
       "      <td>55</td>\n",
       "      <td>13.04</td>\n",
       "      <td>191.3</td>\n",
       "      <td>123</td>\n",
       "      <td>8.61</td>\n",
       "      <td>9.6</td>\n",
       "      <td>4</td>\n",
       "      <td>2.59</td>\n",
       "      <td>3</td>\n",
       "      <td>0</td>\n",
       "    </tr>\n",
       "    <tr>\n",
       "      <th>3330</th>\n",
       "      <td>RI</td>\n",
       "      <td>28</td>\n",
       "      <td>510</td>\n",
       "      <td>No</td>\n",
       "      <td>No</td>\n",
       "      <td>0</td>\n",
       "      <td>180.8</td>\n",
       "      <td>109</td>\n",
       "      <td>30.74</td>\n",
       "      <td>288.8</td>\n",
       "      <td>58</td>\n",
       "      <td>24.55</td>\n",
       "      <td>191.9</td>\n",
       "      <td>91</td>\n",
       "      <td>8.64</td>\n",
       "      <td>14.1</td>\n",
       "      <td>6</td>\n",
       "      <td>3.81</td>\n",
       "      <td>2</td>\n",
       "      <td>0</td>\n",
       "    </tr>\n",
       "    <tr>\n",
       "      <th>3331</th>\n",
       "      <td>CT</td>\n",
       "      <td>184</td>\n",
       "      <td>510</td>\n",
       "      <td>Yes</td>\n",
       "      <td>No</td>\n",
       "      <td>0</td>\n",
       "      <td>213.8</td>\n",
       "      <td>105</td>\n",
       "      <td>36.35</td>\n",
       "      <td>159.6</td>\n",
       "      <td>84</td>\n",
       "      <td>13.57</td>\n",
       "      <td>139.2</td>\n",
       "      <td>137</td>\n",
       "      <td>6.26</td>\n",
       "      <td>5.0</td>\n",
       "      <td>10</td>\n",
       "      <td>1.35</td>\n",
       "      <td>2</td>\n",
       "      <td>0</td>\n",
       "    </tr>\n",
       "    <tr>\n",
       "      <th>3332</th>\n",
       "      <td>TN</td>\n",
       "      <td>74</td>\n",
       "      <td>415</td>\n",
       "      <td>No</td>\n",
       "      <td>Yes</td>\n",
       "      <td>25</td>\n",
       "      <td>234.4</td>\n",
       "      <td>113</td>\n",
       "      <td>39.85</td>\n",
       "      <td>265.9</td>\n",
       "      <td>82</td>\n",
       "      <td>22.60</td>\n",
       "      <td>241.4</td>\n",
       "      <td>77</td>\n",
       "      <td>10.86</td>\n",
       "      <td>13.7</td>\n",
       "      <td>4</td>\n",
       "      <td>3.70</td>\n",
       "      <td>0</td>\n",
       "      <td>0</td>\n",
       "    </tr>\n",
       "  </tbody>\n",
       "</table>\n",
       "<p>3333 rows × 20 columns</p>\n",
       "</div>"
      ],
      "text/plain": [
       "     State  Account length  Area code International plan Voice mail plan  \\\n",
       "0       KS             128        415                 No             Yes   \n",
       "1       OH             107        415                 No             Yes   \n",
       "2       NJ             137        415                 No              No   \n",
       "3       OH              84        408                Yes              No   \n",
       "4       OK              75        415                Yes              No   \n",
       "...    ...             ...        ...                ...             ...   \n",
       "3328    AZ             192        415                 No             Yes   \n",
       "3329    WV              68        415                 No              No   \n",
       "3330    RI              28        510                 No              No   \n",
       "3331    CT             184        510                Yes              No   \n",
       "3332    TN              74        415                 No             Yes   \n",
       "\n",
       "      Number vmail messages  Total day minutes  Total day calls  \\\n",
       "0                        25              265.1              110   \n",
       "1                        26              161.6              123   \n",
       "2                         0              243.4              114   \n",
       "3                         0              299.4               71   \n",
       "4                         0              166.7              113   \n",
       "...                     ...                ...              ...   \n",
       "3328                     36              156.2               77   \n",
       "3329                      0              231.1               57   \n",
       "3330                      0              180.8              109   \n",
       "3331                      0              213.8              105   \n",
       "3332                     25              234.4              113   \n",
       "\n",
       "      Total day charge  Total eve minutes  Total eve calls  Total eve charge  \\\n",
       "0                45.07              197.4               99             16.78   \n",
       "1                27.47              195.5              103             16.62   \n",
       "2                41.38              121.2              110             10.30   \n",
       "3                50.90               61.9               88              5.26   \n",
       "4                28.34              148.3              122             12.61   \n",
       "...                ...                ...              ...               ...   \n",
       "3328             26.55              215.5              126             18.32   \n",
       "3329             39.29              153.4               55             13.04   \n",
       "3330             30.74              288.8               58             24.55   \n",
       "3331             36.35              159.6               84             13.57   \n",
       "3332             39.85              265.9               82             22.60   \n",
       "\n",
       "      Total night minutes  Total night calls  Total night charge  \\\n",
       "0                   244.7                 91               11.01   \n",
       "1                   254.4                103               11.45   \n",
       "2                   162.6                104                7.32   \n",
       "3                   196.9                 89                8.86   \n",
       "4                   186.9                121                8.41   \n",
       "...                   ...                ...                 ...   \n",
       "3328                279.1                 83               12.56   \n",
       "3329                191.3                123                8.61   \n",
       "3330                191.9                 91                8.64   \n",
       "3331                139.2                137                6.26   \n",
       "3332                241.4                 77               10.86   \n",
       "\n",
       "      Total intl minutes  Total intl calls  Total intl charge  \\\n",
       "0                   10.0                 3               2.70   \n",
       "1                   13.7                 3               3.70   \n",
       "2                   12.2                 5               3.29   \n",
       "3                    6.6                 7               1.78   \n",
       "4                   10.1                 3               2.73   \n",
       "...                  ...               ...                ...   \n",
       "3328                 9.9                 6               2.67   \n",
       "3329                 9.6                 4               2.59   \n",
       "3330                14.1                 6               3.81   \n",
       "3331                 5.0                10               1.35   \n",
       "3332                13.7                 4               3.70   \n",
       "\n",
       "      Customer service calls  Churn  \n",
       "0                          1      0  \n",
       "1                          1      0  \n",
       "2                          0      0  \n",
       "3                          2      0  \n",
       "4                          3      0  \n",
       "...                      ...    ...  \n",
       "3328                       2      0  \n",
       "3329                       3      0  \n",
       "3330                       2      0  \n",
       "3331                       2      0  \n",
       "3332                       0      0  \n",
       "\n",
       "[3333 rows x 20 columns]"
      ]
     },
     "execution_count": 22,
     "metadata": {},
     "output_type": "execute_result"
    }
   ],
   "source": [
    "df"
   ]
  },
  {
   "cell_type": "markdown",
   "metadata": {
    "id": "538kJWla9xjl"
   },
   "source": [
    "#### 1.2 Return the column labels/names <span style= color:#0033cc>(2 points)</span>"
   ]
  },
  {
   "cell_type": "code",
   "execution_count": 6,
   "metadata": {
    "id": "nD17ANgm9xjn",
    "scrolled": true
   },
   "outputs": [
    {
     "data": {
      "text/plain": [
       "Index(['State', 'Account length', 'Area code', 'International plan',\n",
       "       'Voice mail plan', 'Number vmail messages', 'Total day minutes',\n",
       "       'Total day calls', 'Total day charge', 'Total eve minutes',\n",
       "       'Total eve calls', 'Total eve charge', 'Total night minutes',\n",
       "       'Total night calls', 'Total night charge', 'Total intl minutes',\n",
       "       'Total intl calls', 'Total intl charge', 'Customer service calls',\n",
       "       'Churn'],\n",
       "      dtype='object')"
      ]
     },
     "execution_count": 6,
     "metadata": {},
     "output_type": "execute_result"
    }
   ],
   "source": [
    "df.columns"
   ]
  },
  {
   "cell_type": "markdown",
   "metadata": {
    "id": "TZ48WqDP9xjp"
   },
   "source": [
    "#### 1.3 Print the df shape <span style= color:#0033cc>(3 points)</span>"
   ]
  },
  {
   "cell_type": "code",
   "execution_count": 8,
   "metadata": {
    "id": "NzgtJ5fV9xjs"
   },
   "outputs": [
    {
     "data": {
      "text/plain": [
       "(3333, 20)"
      ]
     },
     "execution_count": 8,
     "metadata": {},
     "output_type": "execute_result"
    }
   ],
   "source": [
    "df.shape"
   ]
  },
  {
   "cell_type": "markdown",
   "metadata": {
    "id": "h-pvFB8b9xju"
   },
   "source": [
    "#### 2. What is the total day calls given by state and area code? "
   ]
  },
  {
   "cell_type": "markdown",
   "metadata": {
    "id": "rbsmSd919xjy"
   },
   "source": [
    "#### 2.1 Group the df by state and area code (assign it to grouped variable). <span style= color:#0033cc>(5 points)</span>"
   ]
  },
  {
   "cell_type": "code",
   "execution_count": 15,
   "metadata": {
    "id": "AH6R21GQ9xj2"
   },
   "outputs": [
    {
     "data": {
      "text/plain": [
       "<pandas.core.groupby.generic.DataFrameGroupBy object at 0x000001EE04244F30>"
      ]
     },
     "execution_count": 15,
     "metadata": {},
     "output_type": "execute_result"
    }
   ],
   "source": [
    "grouped=df.groupby(['State','Area code'])\n",
    "grouped"
   ]
  },
  {
   "cell_type": "markdown",
   "metadata": {
    "id": "0ziIYrwv9xj4"
   },
   "source": [
    "#### 2.2 Use agg with the desired function sum to get the final answer (assign it to telecom_agg variable).<span style= color:#0033cc>(5 points)</span>"
   ]
  },
  {
   "cell_type": "code",
   "execution_count": 17,
   "metadata": {
    "id": "1eP3_Ore9xj6"
   },
   "outputs": [
    {
     "data": {
      "text/html": [
       "<div>\n",
       "<style scoped>\n",
       "    .dataframe tbody tr th:only-of-type {\n",
       "        vertical-align: middle;\n",
       "    }\n",
       "\n",
       "    .dataframe tbody tr th {\n",
       "        vertical-align: top;\n",
       "    }\n",
       "\n",
       "    .dataframe thead th {\n",
       "        text-align: right;\n",
       "    }\n",
       "</style>\n",
       "<table border=\"1\" class=\"dataframe\">\n",
       "  <thead>\n",
       "    <tr style=\"text-align: right;\">\n",
       "      <th></th>\n",
       "      <th></th>\n",
       "      <th>Account length</th>\n",
       "      <th>International plan</th>\n",
       "      <th>Voice mail plan</th>\n",
       "      <th>Number vmail messages</th>\n",
       "      <th>Total day minutes</th>\n",
       "      <th>Total day calls</th>\n",
       "      <th>Total day charge</th>\n",
       "      <th>Total eve minutes</th>\n",
       "      <th>Total eve calls</th>\n",
       "      <th>Total eve charge</th>\n",
       "      <th>Total night minutes</th>\n",
       "      <th>Total night calls</th>\n",
       "      <th>Total night charge</th>\n",
       "      <th>Total intl minutes</th>\n",
       "      <th>Total intl calls</th>\n",
       "      <th>Total intl charge</th>\n",
       "      <th>Customer service calls</th>\n",
       "      <th>Churn</th>\n",
       "    </tr>\n",
       "    <tr>\n",
       "      <th>State</th>\n",
       "      <th>Area code</th>\n",
       "      <th></th>\n",
       "      <th></th>\n",
       "      <th></th>\n",
       "      <th></th>\n",
       "      <th></th>\n",
       "      <th></th>\n",
       "      <th></th>\n",
       "      <th></th>\n",
       "      <th></th>\n",
       "      <th></th>\n",
       "      <th></th>\n",
       "      <th></th>\n",
       "      <th></th>\n",
       "      <th></th>\n",
       "      <th></th>\n",
       "      <th></th>\n",
       "      <th></th>\n",
       "      <th></th>\n",
       "    </tr>\n",
       "  </thead>\n",
       "  <tbody>\n",
       "    <tr>\n",
       "      <th rowspan=\"3\" valign=\"top\">AK</th>\n",
       "      <th>408</th>\n",
       "      <td>1116</td>\n",
       "      <td>NoNoNoNoNoNoNoNoNoNoNoNoNoNo</td>\n",
       "      <td>YesNoNoNoNoNoNoYesNoNoNoYesNoYes</td>\n",
       "      <td>132</td>\n",
       "      <td>2435.8</td>\n",
       "      <td>1342</td>\n",
       "      <td>414.09</td>\n",
       "      <td>2416.8</td>\n",
       "      <td>1376</td>\n",
       "      <td>205.43</td>\n",
       "      <td>2547.1</td>\n",
       "      <td>1411</td>\n",
       "      <td>114.61</td>\n",
       "      <td>142.6</td>\n",
       "      <td>58</td>\n",
       "      <td>38.53</td>\n",
       "      <td>15</td>\n",
       "      <td>0</td>\n",
       "    </tr>\n",
       "    <tr>\n",
       "      <th>415</th>\n",
       "      <td>2532</td>\n",
       "      <td>YesNoNoNoNoNoNoNoNoNoNoNoNoNoNoNoNoNoNoNoNoNoN...</td>\n",
       "      <td>YesNoYesNoNoNoNoNoYesNoNoYesYesNoNoYesYesYesNo...</td>\n",
       "      <td>291</td>\n",
       "      <td>4468.7</td>\n",
       "      <td>2357</td>\n",
       "      <td>759.69</td>\n",
       "      <td>4299.7</td>\n",
       "      <td>2306</td>\n",
       "      <td>365.48</td>\n",
       "      <td>4568.3</td>\n",
       "      <td>2321</td>\n",
       "      <td>205.59</td>\n",
       "      <td>225.9</td>\n",
       "      <td>119</td>\n",
       "      <td>60.98</td>\n",
       "      <td>38</td>\n",
       "      <td>3</td>\n",
       "    </tr>\n",
       "    <tr>\n",
       "      <th>510</th>\n",
       "      <td>1406</td>\n",
       "      <td>NoNoNoNoYesNoNoYesNoNoNoNoNoNo</td>\n",
       "      <td>YesNoNoNoNoNoNoYesNoNoNoNoNoNo</td>\n",
       "      <td>48</td>\n",
       "      <td>2371.5</td>\n",
       "      <td>1255</td>\n",
       "      <td>403.16</td>\n",
       "      <td>2866.2</td>\n",
       "      <td>1340</td>\n",
       "      <td>243.63</td>\n",
       "      <td>2885.6</td>\n",
       "      <td>1330</td>\n",
       "      <td>129.85</td>\n",
       "      <td>152.5</td>\n",
       "      <td>73</td>\n",
       "      <td>41.17</td>\n",
       "      <td>28</td>\n",
       "      <td>0</td>\n",
       "    </tr>\n",
       "    <tr>\n",
       "      <th rowspan=\"2\" valign=\"top\">AL</th>\n",
       "      <th>408</th>\n",
       "      <td>2454</td>\n",
       "      <td>NoNoNoYesNoNoNoNoNoNoNoNoNoNoNoNoNoNoNoNoNoNoN...</td>\n",
       "      <td>NoYesNoYesYesNoNoNoNoNoNoYesNoYesNoNoNoNoNoYes...</td>\n",
       "      <td>214</td>\n",
       "      <td>4751.2</td>\n",
       "      <td>2524</td>\n",
       "      <td>807.69</td>\n",
       "      <td>4746.2</td>\n",
       "      <td>2513</td>\n",
       "      <td>403.42</td>\n",
       "      <td>4567.5</td>\n",
       "      <td>2367</td>\n",
       "      <td>205.53</td>\n",
       "      <td>274.2</td>\n",
       "      <td>109</td>\n",
       "      <td>74.05</td>\n",
       "      <td>32</td>\n",
       "      <td>4</td>\n",
       "    </tr>\n",
       "    <tr>\n",
       "      <th>415</th>\n",
       "      <td>3828</td>\n",
       "      <td>NoNoNoNoNoYesNoNoNoNoNoNoNoNoNoNoYesNoNoYesNoN...</td>\n",
       "      <td>NoNoYesYesNoNoNoNoYesYesNoNoNoYesNoNoNoNoNoNoN...</td>\n",
       "      <td>261</td>\n",
       "      <td>7336.9</td>\n",
       "      <td>4090</td>\n",
       "      <td>1247.27</td>\n",
       "      <td>7957.0</td>\n",
       "      <td>3962</td>\n",
       "      <td>676.36</td>\n",
       "      <td>7593.1</td>\n",
       "      <td>3917</td>\n",
       "      <td>341.70</td>\n",
       "      <td>393.6</td>\n",
       "      <td>194</td>\n",
       "      <td>106.26</td>\n",
       "      <td>71</td>\n",
       "      <td>3</td>\n",
       "    </tr>\n",
       "    <tr>\n",
       "      <th>...</th>\n",
       "      <th>...</th>\n",
       "      <td>...</td>\n",
       "      <td>...</td>\n",
       "      <td>...</td>\n",
       "      <td>...</td>\n",
       "      <td>...</td>\n",
       "      <td>...</td>\n",
       "      <td>...</td>\n",
       "      <td>...</td>\n",
       "      <td>...</td>\n",
       "      <td>...</td>\n",
       "      <td>...</td>\n",
       "      <td>...</td>\n",
       "      <td>...</td>\n",
       "      <td>...</td>\n",
       "      <td>...</td>\n",
       "      <td>...</td>\n",
       "      <td>...</td>\n",
       "      <td>...</td>\n",
       "    </tr>\n",
       "    <tr>\n",
       "      <th rowspan=\"2\" valign=\"top\">WV</th>\n",
       "      <th>415</th>\n",
       "      <td>5142</td>\n",
       "      <td>YesNoNoNoNoNoNoNoNoYesNoNoNoNoNoNoNoNoYesNoNoN...</td>\n",
       "      <td>YesNoNoNoNoNoNoNoYesNoNoNoYesYesYesYesNoNoYesN...</td>\n",
       "      <td>382</td>\n",
       "      <td>9046.1</td>\n",
       "      <td>5474</td>\n",
       "      <td>1537.86</td>\n",
       "      <td>9461.4</td>\n",
       "      <td>5111</td>\n",
       "      <td>804.19</td>\n",
       "      <td>10773.8</td>\n",
       "      <td>5349</td>\n",
       "      <td>484.85</td>\n",
       "      <td>553.4</td>\n",
       "      <td>242</td>\n",
       "      <td>149.45</td>\n",
       "      <td>79</td>\n",
       "      <td>3</td>\n",
       "    </tr>\n",
       "    <tr>\n",
       "      <th>510</th>\n",
       "      <td>3133</td>\n",
       "      <td>NoYesNoNoNoNoYesNoNoNoNoNoNoNoNoNoNoNoNoNoNoNo...</td>\n",
       "      <td>NoYesYesYesNoNoNoYesNoNoNoYesYesNoNoYesNoNoNoN...</td>\n",
       "      <td>384</td>\n",
       "      <td>5719.7</td>\n",
       "      <td>3491</td>\n",
       "      <td>972.39</td>\n",
       "      <td>6607.1</td>\n",
       "      <td>3480</td>\n",
       "      <td>561.59</td>\n",
       "      <td>6777.1</td>\n",
       "      <td>3307</td>\n",
       "      <td>304.98</td>\n",
       "      <td>315.3</td>\n",
       "      <td>138</td>\n",
       "      <td>85.16</td>\n",
       "      <td>54</td>\n",
       "      <td>6</td>\n",
       "    </tr>\n",
       "    <tr>\n",
       "      <th rowspan=\"3\" valign=\"top\">WY</th>\n",
       "      <th>408</th>\n",
       "      <td>1598</td>\n",
       "      <td>NoNoNoNoNoNoNoNoNoNoNoYesNoNoNoNoNo</td>\n",
       "      <td>YesYesNoNoNoYesYesYesNoNoNoNoNoNoNoNoNo</td>\n",
       "      <td>187</td>\n",
       "      <td>2882.1</td>\n",
       "      <td>1659</td>\n",
       "      <td>489.95</td>\n",
       "      <td>3537.6</td>\n",
       "      <td>1699</td>\n",
       "      <td>300.69</td>\n",
       "      <td>3213.8</td>\n",
       "      <td>1658</td>\n",
       "      <td>144.61</td>\n",
       "      <td>175.7</td>\n",
       "      <td>95</td>\n",
       "      <td>47.46</td>\n",
       "      <td>17</td>\n",
       "      <td>0</td>\n",
       "    </tr>\n",
       "    <tr>\n",
       "      <th>415</th>\n",
       "      <td>4401</td>\n",
       "      <td>NoNoYesNoNoNoNoNoNoNoNoYesNoNoNoYesNoYesNoNoNo...</td>\n",
       "      <td>YesNoNoNoYesNoNoYesNoNoNoNoNoNoNoYesYesYesYesN...</td>\n",
       "      <td>263</td>\n",
       "      <td>7410.3</td>\n",
       "      <td>4205</td>\n",
       "      <td>1259.76</td>\n",
       "      <td>8460.7</td>\n",
       "      <td>4030</td>\n",
       "      <td>719.15</td>\n",
       "      <td>8232.9</td>\n",
       "      <td>4291</td>\n",
       "      <td>370.47</td>\n",
       "      <td>417.3</td>\n",
       "      <td>185</td>\n",
       "      <td>112.67</td>\n",
       "      <td>65</td>\n",
       "      <td>5</td>\n",
       "    </tr>\n",
       "    <tr>\n",
       "      <th>510</th>\n",
       "      <td>2143</td>\n",
       "      <td>NoNoNoNoNoNoYesNoYesNoNoNoNoYesNoNoNoNoNo</td>\n",
       "      <td>NoNoNoNoNoNoNoYesNoNoNoNoNoNoYesYesNoNoNo</td>\n",
       "      <td>52</td>\n",
       "      <td>3580.7</td>\n",
       "      <td>2007</td>\n",
       "      <td>608.72</td>\n",
       "      <td>3850.5</td>\n",
       "      <td>1912</td>\n",
       "      <td>327.30</td>\n",
       "      <td>3889.2</td>\n",
       "      <td>1907</td>\n",
       "      <td>175.04</td>\n",
       "      <td>207.3</td>\n",
       "      <td>103</td>\n",
       "      <td>55.99</td>\n",
       "      <td>29</td>\n",
       "      <td>4</td>\n",
       "    </tr>\n",
       "  </tbody>\n",
       "</table>\n",
       "<p>153 rows × 18 columns</p>\n",
       "</div>"
      ],
      "text/plain": [
       "                 Account length  \\\n",
       "State Area code                   \n",
       "AK    408                  1116   \n",
       "      415                  2532   \n",
       "      510                  1406   \n",
       "AL    408                  2454   \n",
       "      415                  3828   \n",
       "...                         ...   \n",
       "WV    415                  5142   \n",
       "      510                  3133   \n",
       "WY    408                  1598   \n",
       "      415                  4401   \n",
       "      510                  2143   \n",
       "\n",
       "                                                International plan  \\\n",
       "State Area code                                                      \n",
       "AK    408                             NoNoNoNoNoNoNoNoNoNoNoNoNoNo   \n",
       "      415        YesNoNoNoNoNoNoNoNoNoNoNoNoNoNoNoNoNoNoNoNoNoN...   \n",
       "      510                           NoNoNoNoYesNoNoYesNoNoNoNoNoNo   \n",
       "AL    408        NoNoNoYesNoNoNoNoNoNoNoNoNoNoNoNoNoNoNoNoNoNoN...   \n",
       "      415        NoNoNoNoNoYesNoNoNoNoNoNoNoNoNoNoYesNoNoYesNoN...   \n",
       "...                                                            ...   \n",
       "WV    415        YesNoNoNoNoNoNoNoNoYesNoNoNoNoNoNoNoNoYesNoNoN...   \n",
       "      510        NoYesNoNoNoNoYesNoNoNoNoNoNoNoNoNoNoNoNoNoNoNo...   \n",
       "WY    408                      NoNoNoNoNoNoNoNoNoNoNoYesNoNoNoNoNo   \n",
       "      415        NoNoYesNoNoNoNoNoNoNoNoYesNoNoNoYesNoYesNoNoNo...   \n",
       "      510                NoNoNoNoNoNoYesNoYesNoNoNoNoYesNoNoNoNoNo   \n",
       "\n",
       "                                                   Voice mail plan  \\\n",
       "State Area code                                                      \n",
       "AK    408                         YesNoNoNoNoNoNoYesNoNoNoYesNoYes   \n",
       "      415        YesNoYesNoNoNoNoNoYesNoNoYesYesNoNoYesYesYesNo...   \n",
       "      510                           YesNoNoNoNoNoNoYesNoNoNoNoNoNo   \n",
       "AL    408        NoYesNoYesYesNoNoNoNoNoNoYesNoYesNoNoNoNoNoYes...   \n",
       "      415        NoNoYesYesNoNoNoNoYesYesNoNoNoYesNoNoNoNoNoNoN...   \n",
       "...                                                            ...   \n",
       "WV    415        YesNoNoNoNoNoNoNoYesNoNoNoYesYesYesYesNoNoYesN...   \n",
       "      510        NoYesYesYesNoNoNoYesNoNoNoYesYesNoNoYesNoNoNoN...   \n",
       "WY    408                  YesYesNoNoNoYesYesYesNoNoNoNoNoNoNoNoNo   \n",
       "      415        YesNoNoNoYesNoNoYesNoNoNoNoNoNoNoYesYesYesYesN...   \n",
       "      510                NoNoNoNoNoNoNoYesNoNoNoNoNoNoYesYesNoNoNo   \n",
       "\n",
       "                 Number vmail messages  Total day minutes  Total day calls  \\\n",
       "State Area code                                                              \n",
       "AK    408                          132             2435.8             1342   \n",
       "      415                          291             4468.7             2357   \n",
       "      510                           48             2371.5             1255   \n",
       "AL    408                          214             4751.2             2524   \n",
       "      415                          261             7336.9             4090   \n",
       "...                                ...                ...              ...   \n",
       "WV    415                          382             9046.1             5474   \n",
       "      510                          384             5719.7             3491   \n",
       "WY    408                          187             2882.1             1659   \n",
       "      415                          263             7410.3             4205   \n",
       "      510                           52             3580.7             2007   \n",
       "\n",
       "                 Total day charge  Total eve minutes  Total eve calls  \\\n",
       "State Area code                                                         \n",
       "AK    408                  414.09             2416.8             1376   \n",
       "      415                  759.69             4299.7             2306   \n",
       "      510                  403.16             2866.2             1340   \n",
       "AL    408                  807.69             4746.2             2513   \n",
       "      415                 1247.27             7957.0             3962   \n",
       "...                           ...                ...              ...   \n",
       "WV    415                 1537.86             9461.4             5111   \n",
       "      510                  972.39             6607.1             3480   \n",
       "WY    408                  489.95             3537.6             1699   \n",
       "      415                 1259.76             8460.7             4030   \n",
       "      510                  608.72             3850.5             1912   \n",
       "\n",
       "                 Total eve charge  Total night minutes  Total night calls  \\\n",
       "State Area code                                                             \n",
       "AK    408                  205.43               2547.1               1411   \n",
       "      415                  365.48               4568.3               2321   \n",
       "      510                  243.63               2885.6               1330   \n",
       "AL    408                  403.42               4567.5               2367   \n",
       "      415                  676.36               7593.1               3917   \n",
       "...                           ...                  ...                ...   \n",
       "WV    415                  804.19              10773.8               5349   \n",
       "      510                  561.59               6777.1               3307   \n",
       "WY    408                  300.69               3213.8               1658   \n",
       "      415                  719.15               8232.9               4291   \n",
       "      510                  327.30               3889.2               1907   \n",
       "\n",
       "                 Total night charge  Total intl minutes  Total intl calls  \\\n",
       "State Area code                                                             \n",
       "AK    408                    114.61               142.6                58   \n",
       "      415                    205.59               225.9               119   \n",
       "      510                    129.85               152.5                73   \n",
       "AL    408                    205.53               274.2               109   \n",
       "      415                    341.70               393.6               194   \n",
       "...                             ...                 ...               ...   \n",
       "WV    415                    484.85               553.4               242   \n",
       "      510                    304.98               315.3               138   \n",
       "WY    408                    144.61               175.7                95   \n",
       "      415                    370.47               417.3               185   \n",
       "      510                    175.04               207.3               103   \n",
       "\n",
       "                 Total intl charge  Customer service calls  Churn  \n",
       "State Area code                                                    \n",
       "AK    408                    38.53                      15      0  \n",
       "      415                    60.98                      38      3  \n",
       "      510                    41.17                      28      0  \n",
       "AL    408                    74.05                      32      4  \n",
       "      415                   106.26                      71      3  \n",
       "...                            ...                     ...    ...  \n",
       "WV    415                   149.45                      79      3  \n",
       "      510                    85.16                      54      6  \n",
       "WY    408                    47.46                      17      0  \n",
       "      415                   112.67                      65      5  \n",
       "      510                    55.99                      29      4  \n",
       "\n",
       "[153 rows x 18 columns]"
      ]
     },
     "execution_count": 17,
     "metadata": {},
     "output_type": "execute_result"
    }
   ],
   "source": [
    "telecom_agg = grouped.agg('sum')\n",
    "telecom_agg"
   ]
  },
  {
   "cell_type": "markdown",
   "metadata": {
    "id": "0lAmCalD9xj8"
   },
   "source": [
    "#### 2.3 Reset the group by index <span style= color:#0033cc>(3 points)</span>"
   ]
  },
  {
   "cell_type": "code",
   "execution_count": 19,
   "metadata": {
    "id": "uHU23qpR9xj-"
   },
   "outputs": [],
   "source": [
    "telecom_agg = telecom_agg.reset_index()\n"
   ]
  },
  {
   "cell_type": "markdown",
   "metadata": {
    "id": "10raVaLV9xkA"
   },
   "source": [
    "#### 2.4 Use head function to review the first 10 telecom_agg rows <span style= color:#0033cc>(3 points)</span>"
   ]
  },
  {
   "cell_type": "code",
   "execution_count": 20,
   "metadata": {
    "id": "L3yw-QnO9xkC"
   },
   "outputs": [
    {
     "data": {
      "text/html": [
       "<div>\n",
       "<style scoped>\n",
       "    .dataframe tbody tr th:only-of-type {\n",
       "        vertical-align: middle;\n",
       "    }\n",
       "\n",
       "    .dataframe tbody tr th {\n",
       "        vertical-align: top;\n",
       "    }\n",
       "\n",
       "    .dataframe thead th {\n",
       "        text-align: right;\n",
       "    }\n",
       "</style>\n",
       "<table border=\"1\" class=\"dataframe\">\n",
       "  <thead>\n",
       "    <tr style=\"text-align: right;\">\n",
       "      <th></th>\n",
       "      <th>State</th>\n",
       "      <th>Area code</th>\n",
       "      <th>Account length</th>\n",
       "      <th>International plan</th>\n",
       "      <th>Voice mail plan</th>\n",
       "      <th>Number vmail messages</th>\n",
       "      <th>Total day minutes</th>\n",
       "      <th>Total day calls</th>\n",
       "      <th>Total day charge</th>\n",
       "      <th>Total eve minutes</th>\n",
       "      <th>Total eve calls</th>\n",
       "      <th>Total eve charge</th>\n",
       "      <th>Total night minutes</th>\n",
       "      <th>Total night calls</th>\n",
       "      <th>Total night charge</th>\n",
       "      <th>Total intl minutes</th>\n",
       "      <th>Total intl calls</th>\n",
       "      <th>Total intl charge</th>\n",
       "      <th>Customer service calls</th>\n",
       "      <th>Churn</th>\n",
       "    </tr>\n",
       "  </thead>\n",
       "  <tbody>\n",
       "    <tr>\n",
       "      <th>0</th>\n",
       "      <td>AK</td>\n",
       "      <td>408</td>\n",
       "      <td>1116</td>\n",
       "      <td>NoNoNoNoNoNoNoNoNoNoNoNoNoNo</td>\n",
       "      <td>YesNoNoNoNoNoNoYesNoNoNoYesNoYes</td>\n",
       "      <td>132</td>\n",
       "      <td>2435.8</td>\n",
       "      <td>1342</td>\n",
       "      <td>414.09</td>\n",
       "      <td>2416.8</td>\n",
       "      <td>1376</td>\n",
       "      <td>205.43</td>\n",
       "      <td>2547.1</td>\n",
       "      <td>1411</td>\n",
       "      <td>114.61</td>\n",
       "      <td>142.6</td>\n",
       "      <td>58</td>\n",
       "      <td>38.53</td>\n",
       "      <td>15</td>\n",
       "      <td>0</td>\n",
       "    </tr>\n",
       "    <tr>\n",
       "      <th>1</th>\n",
       "      <td>AK</td>\n",
       "      <td>415</td>\n",
       "      <td>2532</td>\n",
       "      <td>YesNoNoNoNoNoNoNoNoNoNoNoNoNoNoNoNoNoNoNoNoNoN...</td>\n",
       "      <td>YesNoYesNoNoNoNoNoYesNoNoYesYesNoNoYesYesYesNo...</td>\n",
       "      <td>291</td>\n",
       "      <td>4468.7</td>\n",
       "      <td>2357</td>\n",
       "      <td>759.69</td>\n",
       "      <td>4299.7</td>\n",
       "      <td>2306</td>\n",
       "      <td>365.48</td>\n",
       "      <td>4568.3</td>\n",
       "      <td>2321</td>\n",
       "      <td>205.59</td>\n",
       "      <td>225.9</td>\n",
       "      <td>119</td>\n",
       "      <td>60.98</td>\n",
       "      <td>38</td>\n",
       "      <td>3</td>\n",
       "    </tr>\n",
       "    <tr>\n",
       "      <th>2</th>\n",
       "      <td>AK</td>\n",
       "      <td>510</td>\n",
       "      <td>1406</td>\n",
       "      <td>NoNoNoNoYesNoNoYesNoNoNoNoNoNo</td>\n",
       "      <td>YesNoNoNoNoNoNoYesNoNoNoNoNoNo</td>\n",
       "      <td>48</td>\n",
       "      <td>2371.5</td>\n",
       "      <td>1255</td>\n",
       "      <td>403.16</td>\n",
       "      <td>2866.2</td>\n",
       "      <td>1340</td>\n",
       "      <td>243.63</td>\n",
       "      <td>2885.6</td>\n",
       "      <td>1330</td>\n",
       "      <td>129.85</td>\n",
       "      <td>152.5</td>\n",
       "      <td>73</td>\n",
       "      <td>41.17</td>\n",
       "      <td>28</td>\n",
       "      <td>0</td>\n",
       "    </tr>\n",
       "    <tr>\n",
       "      <th>3</th>\n",
       "      <td>AL</td>\n",
       "      <td>408</td>\n",
       "      <td>2454</td>\n",
       "      <td>NoNoNoYesNoNoNoNoNoNoNoNoNoNoNoNoNoNoNoNoNoNoN...</td>\n",
       "      <td>NoYesNoYesYesNoNoNoNoNoNoYesNoYesNoNoNoNoNoYes...</td>\n",
       "      <td>214</td>\n",
       "      <td>4751.2</td>\n",
       "      <td>2524</td>\n",
       "      <td>807.69</td>\n",
       "      <td>4746.2</td>\n",
       "      <td>2513</td>\n",
       "      <td>403.42</td>\n",
       "      <td>4567.5</td>\n",
       "      <td>2367</td>\n",
       "      <td>205.53</td>\n",
       "      <td>274.2</td>\n",
       "      <td>109</td>\n",
       "      <td>74.05</td>\n",
       "      <td>32</td>\n",
       "      <td>4</td>\n",
       "    </tr>\n",
       "    <tr>\n",
       "      <th>4</th>\n",
       "      <td>AL</td>\n",
       "      <td>415</td>\n",
       "      <td>3828</td>\n",
       "      <td>NoNoNoNoNoYesNoNoNoNoNoNoNoNoNoNoYesNoNoYesNoN...</td>\n",
       "      <td>NoNoYesYesNoNoNoNoYesYesNoNoNoYesNoNoNoNoNoNoN...</td>\n",
       "      <td>261</td>\n",
       "      <td>7336.9</td>\n",
       "      <td>4090</td>\n",
       "      <td>1247.27</td>\n",
       "      <td>7957.0</td>\n",
       "      <td>3962</td>\n",
       "      <td>676.36</td>\n",
       "      <td>7593.1</td>\n",
       "      <td>3917</td>\n",
       "      <td>341.70</td>\n",
       "      <td>393.6</td>\n",
       "      <td>194</td>\n",
       "      <td>106.26</td>\n",
       "      <td>71</td>\n",
       "      <td>3</td>\n",
       "    </tr>\n",
       "    <tr>\n",
       "      <th>5</th>\n",
       "      <td>AL</td>\n",
       "      <td>510</td>\n",
       "      <td>1560</td>\n",
       "      <td>YesYesNoNoNoNoNoNoNoNoNoNoNoNoNo</td>\n",
       "      <td>NoNoNoNoYesYesNoNoYesNoNoNoNoYesNo</td>\n",
       "      <td>99</td>\n",
       "      <td>2792.7</td>\n",
       "      <td>1314</td>\n",
       "      <td>474.76</td>\n",
       "      <td>2933.8</td>\n",
       "      <td>1402</td>\n",
       "      <td>249.38</td>\n",
       "      <td>2822.2</td>\n",
       "      <td>1605</td>\n",
       "      <td>127.00</td>\n",
       "      <td>155.6</td>\n",
       "      <td>73</td>\n",
       "      <td>42.01</td>\n",
       "      <td>22</td>\n",
       "      <td>1</td>\n",
       "    </tr>\n",
       "    <tr>\n",
       "      <th>6</th>\n",
       "      <td>AR</td>\n",
       "      <td>408</td>\n",
       "      <td>1289</td>\n",
       "      <td>NoNoNoNoYesNoNoNoNoNoNoNoNo</td>\n",
       "      <td>NoNoNoNoNoYesNoNoNoNoNoNoNo</td>\n",
       "      <td>16</td>\n",
       "      <td>2187.3</td>\n",
       "      <td>1382</td>\n",
       "      <td>371.83</td>\n",
       "      <td>2475.3</td>\n",
       "      <td>1421</td>\n",
       "      <td>210.41</td>\n",
       "      <td>2760.6</td>\n",
       "      <td>1185</td>\n",
       "      <td>124.24</td>\n",
       "      <td>142.1</td>\n",
       "      <td>62</td>\n",
       "      <td>38.36</td>\n",
       "      <td>19</td>\n",
       "      <td>1</td>\n",
       "    </tr>\n",
       "    <tr>\n",
       "      <th>7</th>\n",
       "      <td>AR</td>\n",
       "      <td>415</td>\n",
       "      <td>2684</td>\n",
       "      <td>NoNoYesNoNoNoNoNoNoYesNoNoNoNoNoNoNoNoNoYesYes...</td>\n",
       "      <td>NoNoYesYesNoNoYesNoYesNoNoYesYesNoNoNoNoYesYes...</td>\n",
       "      <td>248</td>\n",
       "      <td>4843.1</td>\n",
       "      <td>2756</td>\n",
       "      <td>823.32</td>\n",
       "      <td>5444.2</td>\n",
       "      <td>2597</td>\n",
       "      <td>462.78</td>\n",
       "      <td>5283.7</td>\n",
       "      <td>2750</td>\n",
       "      <td>237.78</td>\n",
       "      <td>277.8</td>\n",
       "      <td>119</td>\n",
       "      <td>75.02</td>\n",
       "      <td>66</td>\n",
       "      <td>9</td>\n",
       "    </tr>\n",
       "    <tr>\n",
       "      <th>8</th>\n",
       "      <td>AR</td>\n",
       "      <td>510</td>\n",
       "      <td>1361</td>\n",
       "      <td>NoNoNoNoNoNoNoNoYesNoNoNoNoNoNo</td>\n",
       "      <td>NoYesYesNoNoNoNoYesNoNoNoYesNoNoNo</td>\n",
       "      <td>132</td>\n",
       "      <td>2656.0</td>\n",
       "      <td>1480</td>\n",
       "      <td>451.55</td>\n",
       "      <td>3138.1</td>\n",
       "      <td>1363</td>\n",
       "      <td>266.74</td>\n",
       "      <td>3255.7</td>\n",
       "      <td>1513</td>\n",
       "      <td>146.50</td>\n",
       "      <td>150.6</td>\n",
       "      <td>77</td>\n",
       "      <td>40.66</td>\n",
       "      <td>24</td>\n",
       "      <td>1</td>\n",
       "    </tr>\n",
       "    <tr>\n",
       "      <th>9</th>\n",
       "      <td>AZ</td>\n",
       "      <td>408</td>\n",
       "      <td>1384</td>\n",
       "      <td>NoNoNoNoNoNoNoNoNoNoNoNoNoNoNo</td>\n",
       "      <td>NoNoNoYesYesNoNoNoNoNoNoNoYesNoYes</td>\n",
       "      <td>136</td>\n",
       "      <td>2695.3</td>\n",
       "      <td>1452</td>\n",
       "      <td>458.20</td>\n",
       "      <td>2888.6</td>\n",
       "      <td>1538</td>\n",
       "      <td>245.52</td>\n",
       "      <td>3252.2</td>\n",
       "      <td>1580</td>\n",
       "      <td>146.36</td>\n",
       "      <td>160.7</td>\n",
       "      <td>56</td>\n",
       "      <td>43.40</td>\n",
       "      <td>27</td>\n",
       "      <td>1</td>\n",
       "    </tr>\n",
       "  </tbody>\n",
       "</table>\n",
       "</div>"
      ],
      "text/plain": [
       "  State  Area code  Account length  \\\n",
       "0    AK        408            1116   \n",
       "1    AK        415            2532   \n",
       "2    AK        510            1406   \n",
       "3    AL        408            2454   \n",
       "4    AL        415            3828   \n",
       "5    AL        510            1560   \n",
       "6    AR        408            1289   \n",
       "7    AR        415            2684   \n",
       "8    AR        510            1361   \n",
       "9    AZ        408            1384   \n",
       "\n",
       "                                  International plan  \\\n",
       "0                       NoNoNoNoNoNoNoNoNoNoNoNoNoNo   \n",
       "1  YesNoNoNoNoNoNoNoNoNoNoNoNoNoNoNoNoNoNoNoNoNoN...   \n",
       "2                     NoNoNoNoYesNoNoYesNoNoNoNoNoNo   \n",
       "3  NoNoNoYesNoNoNoNoNoNoNoNoNoNoNoNoNoNoNoNoNoNoN...   \n",
       "4  NoNoNoNoNoYesNoNoNoNoNoNoNoNoNoNoYesNoNoYesNoN...   \n",
       "5                   YesYesNoNoNoNoNoNoNoNoNoNoNoNoNo   \n",
       "6                        NoNoNoNoYesNoNoNoNoNoNoNoNo   \n",
       "7  NoNoYesNoNoNoNoNoNoYesNoNoNoNoNoNoNoNoNoYesYes...   \n",
       "8                    NoNoNoNoNoNoNoNoYesNoNoNoNoNoNo   \n",
       "9                     NoNoNoNoNoNoNoNoNoNoNoNoNoNoNo   \n",
       "\n",
       "                                     Voice mail plan  Number vmail messages  \\\n",
       "0                   YesNoNoNoNoNoNoYesNoNoNoYesNoYes                    132   \n",
       "1  YesNoYesNoNoNoNoNoYesNoNoYesYesNoNoYesYesYesNo...                    291   \n",
       "2                     YesNoNoNoNoNoNoYesNoNoNoNoNoNo                     48   \n",
       "3  NoYesNoYesYesNoNoNoNoNoNoYesNoYesNoNoNoNoNoYes...                    214   \n",
       "4  NoNoYesYesNoNoNoNoYesYesNoNoNoYesNoNoNoNoNoNoN...                    261   \n",
       "5                 NoNoNoNoYesYesNoNoYesNoNoNoNoYesNo                     99   \n",
       "6                        NoNoNoNoNoYesNoNoNoNoNoNoNo                     16   \n",
       "7  NoNoYesYesNoNoYesNoYesNoNoYesYesNoNoNoNoYesYes...                    248   \n",
       "8                 NoYesYesNoNoNoNoYesNoNoNoYesNoNoNo                    132   \n",
       "9                 NoNoNoYesYesNoNoNoNoNoNoNoYesNoYes                    136   \n",
       "\n",
       "   Total day minutes  Total day calls  Total day charge  Total eve minutes  \\\n",
       "0             2435.8             1342            414.09             2416.8   \n",
       "1             4468.7             2357            759.69             4299.7   \n",
       "2             2371.5             1255            403.16             2866.2   \n",
       "3             4751.2             2524            807.69             4746.2   \n",
       "4             7336.9             4090           1247.27             7957.0   \n",
       "5             2792.7             1314            474.76             2933.8   \n",
       "6             2187.3             1382            371.83             2475.3   \n",
       "7             4843.1             2756            823.32             5444.2   \n",
       "8             2656.0             1480            451.55             3138.1   \n",
       "9             2695.3             1452            458.20             2888.6   \n",
       "\n",
       "   Total eve calls  Total eve charge  Total night minutes  Total night calls  \\\n",
       "0             1376            205.43               2547.1               1411   \n",
       "1             2306            365.48               4568.3               2321   \n",
       "2             1340            243.63               2885.6               1330   \n",
       "3             2513            403.42               4567.5               2367   \n",
       "4             3962            676.36               7593.1               3917   \n",
       "5             1402            249.38               2822.2               1605   \n",
       "6             1421            210.41               2760.6               1185   \n",
       "7             2597            462.78               5283.7               2750   \n",
       "8             1363            266.74               3255.7               1513   \n",
       "9             1538            245.52               3252.2               1580   \n",
       "\n",
       "   Total night charge  Total intl minutes  Total intl calls  \\\n",
       "0              114.61               142.6                58   \n",
       "1              205.59               225.9               119   \n",
       "2              129.85               152.5                73   \n",
       "3              205.53               274.2               109   \n",
       "4              341.70               393.6               194   \n",
       "5              127.00               155.6                73   \n",
       "6              124.24               142.1                62   \n",
       "7              237.78               277.8               119   \n",
       "8              146.50               150.6                77   \n",
       "9              146.36               160.7                56   \n",
       "\n",
       "   Total intl charge  Customer service calls  Churn  \n",
       "0              38.53                      15      0  \n",
       "1              60.98                      38      3  \n",
       "2              41.17                      28      0  \n",
       "3              74.05                      32      4  \n",
       "4             106.26                      71      3  \n",
       "5              42.01                      22      1  \n",
       "6              38.36                      19      1  \n",
       "7              75.02                      66      9  \n",
       "8              40.66                      24      1  \n",
       "9              43.40                      27      1  "
      ]
     },
     "execution_count": 20,
     "metadata": {},
     "output_type": "execute_result"
    }
   ],
   "source": [
    "telecom_agg.head(10)"
   ]
  },
  {
   "cell_type": "markdown",
   "metadata": {
    "id": "2fjl9ioL9xkD"
   },
   "source": [
    "#### 3. Users Churn rate"
   ]
  },
  {
   "cell_type": "markdown",
   "metadata": {
    "id": "8JJlIG7h9xkF"
   },
   "source": [
    "#### 3.1 Change \"Churn\" column type to an integer: <span style= color:#0033cc>(3 points)</span>"
   ]
  },
  {
   "cell_type": "code",
   "execution_count": 21,
   "metadata": {
    "id": "3Bq5V7iI9xkG"
   },
   "outputs": [],
   "source": [
    "df[\"Churn\"] = df[\"Churn\"].astype(int)"
   ]
  },
  {
   "cell_type": "markdown",
   "metadata": {
    "id": "aA2q3Ssl9xkI"
   },
   "source": [
    "#### 3.2 what is the users \"churn rate\" in our dataframe? <span style= color:#0033cc>(5 points)</span>\n",
    "Hint: the churn rate formula can be calculated as the \"number of churned\" divided by the \"total number of customers\"."
   ]
  },
  {
   "cell_type": "code",
   "execution_count": 25,
   "metadata": {
    "id": "Jx3LRSAf9xkK"
   },
   "outputs": [
    {
     "name": "stdout",
     "output_type": "stream",
     "text": [
      "0.14491449144914492\n"
     ]
    }
   ],
   "source": [
    "churn_rate = df[\"Churn\"].sum() / len(df)\n",
    "print(churn_rate)"
   ]
  },
  {
   "cell_type": "markdown",
   "metadata": {
    "id": "qxNRGhAS9xkL"
   },
   "source": [
    "#### 3.3  How the charn rate can affect on the company? <span style= color:#0033cc>(3 points)</span>"
   ]
  },
  {
   "cell_type": "markdown",
   "metadata": {
    "id": "xVTyvAZW9xkM"
   },
   "source": []
  },
  {
   "cell_type": "markdown",
   "metadata": {
    "id": "riCjlVAy9xkN"
   },
   "source": [
    "#### 3.4 How much time (on average) do churned users spend on the phone during daytime? <span style= color:#0033cc>(5 points)</span>\n",
    "Hint: filter churn column when the value of churn equal to 1"
   ]
  },
  {
   "cell_type": "code",
   "execution_count": null,
   "metadata": {
    "id": "XRg3woMo9xkO"
   },
   "outputs": [],
   "source": []
  },
  {
   "cell_type": "markdown",
   "metadata": {
    "id": "AoIGk7d_9xkO"
   },
   "source": [
    "#### 3.5 What is the maximum length of international calls among loyal users who do not have an international plan? ('International plan' == 'No') <span style= color:#0033cc>(5 points)</span>\n",
    "Hint: 2 filters conditions,churn equal to 0 and international plan equal to no"
   ]
  },
  {
   "cell_type": "code",
   "execution_count": null,
   "metadata": {
    "id": "ezgNGAW99xkP"
   },
   "outputs": [],
   "source": []
  },
  {
   "cell_type": "markdown",
   "metadata": {
    "id": "mOUwkweH9xkQ"
   },
   "source": [
    "#### 4. Select top 3 international plan subscribers and non subscribers with the most intl calls"
   ]
  },
  {
   "cell_type": "markdown",
   "metadata": {
    "id": "3MH7u5NW9xkS"
   },
   "source": [
    "#### 4.1. Build a function top which attributes df, n (for the top n) and column. In this function use sort_values to sort the values in the column specified. <span style= color:#0033cc>(10 points)</span>\n",
    "Note: Do not apply the function on the whole data frame (e.i. top(df, n=3)) as the output will be the top 3 regardless of subscribers and non-subscribers."
   ]
  },
  {
   "cell_type": "code",
   "execution_count": null,
   "metadata": {
    "id": "BuqY5DHI9xkU"
   },
   "outputs": [],
   "source": []
  },
  {
   "cell_type": "markdown",
   "metadata": {
    "id": "gWbsNCnt9xkV"
   },
   "source": [
    "#### 4.2. Group the df dataframe by 'International plan' and use apply(top) to apply this function. <span style= color:#0033cc>(5 points)</span>"
   ]
  },
  {
   "cell_type": "code",
   "execution_count": null,
   "metadata": {
    "id": "iLj7of3s9xkV"
   },
   "outputs": [],
   "source": []
  },
  {
   "cell_type": "markdown",
   "metadata": {
    "id": "DaPf0inB9xkW"
   },
   "source": [
    "#### 5. pd.crosstab"
   ]
  },
  {
   "cell_type": "markdown",
   "metadata": {
    "id": "oGzK6u5G9xkX"
   },
   "source": [
    "#### 5.1 how the observations in our sample are normalized (divide each value by the sum of the values) in the context of two variables - Churn and Voice mail plan. To do so, build a contingency table using the crosstab method. <span style= color:#0033cc>(6 points)</span>\n",
    "Hint: To normalize using all values, simply set normalize=True"
   ]
  },
  {
   "cell_type": "code",
   "execution_count": null,
   "metadata": {
    "id": "Un8rI1Py9xkY"
   },
   "outputs": [],
   "source": []
  },
  {
   "cell_type": "markdown",
   "metadata": {
    "id": "g91pLbIg9xkZ"
   },
   "source": [
    "#### 5.2 What is the conclustion of most of users regarding voice mail usage? <span style= color:#0033cc>(4 points)</span>"
   ]
  },
  {
   "cell_type": "markdown",
   "metadata": {
    "id": "AbZ1hgAb9xka"
   },
   "source": []
  },
  {
   "cell_type": "markdown",
   "metadata": {
    "id": "dZNUPRdk9xkb"
   },
   "source": [
    "#### 6. Columns calculations"
   ]
  },
  {
   "cell_type": "markdown",
   "metadata": {
    "id": "q-s_pq8T9xkb"
   },
   "source": [
    "#### 6.1 Add a column name 'total_charge', and get the total charge by sum all the charge columns <span style= color:#0033cc>(7 points)</span>"
   ]
  },
  {
   "cell_type": "code",
   "execution_count": null,
   "metadata": {
    "id": "xTWElLXC9xkc"
   },
   "outputs": [],
   "source": []
  },
  {
   "cell_type": "markdown",
   "metadata": {
    "id": "dhI9MhJ-9xkd"
   },
   "source": [
    "####  6.2 Add a column name 'Day_charge_pct', and get day charge precentage of total charge by dividing the column 'Total day charge' by the column 'total_charge'. <span style= color:#0033cc>(7 points)</span>"
   ]
  },
  {
   "cell_type": "code",
   "execution_count": null,
   "metadata": {
    "id": "tOdt1BhW9xke"
   },
   "outputs": [],
   "source": []
  },
  {
   "cell_type": "markdown",
   "metadata": {
    "id": "uXK32Gb-9xke"
   },
   "source": [
    "#### 7. Day charge percentage and state visualization"
   ]
  },
  {
   "cell_type": "markdown",
   "metadata": {
    "id": "F9eE6N3q9xkf"
   },
   "source": [
    "#### 7.1 Import matplotlib.pyplot and referred the package as plt <span style= color:#0033cc>(2 points)</span>"
   ]
  },
  {
   "cell_type": "code",
   "execution_count": null,
   "metadata": {
    "id": "xjtstUin9xkg"
   },
   "outputs": [],
   "source": []
  },
  {
   "cell_type": "markdown",
   "metadata": {
    "id": "_JxacDnh9xkh"
   },
   "source": [
    "#### 7.2 create new string list with the name 'my_color' that contains the following colors names: red,green,orange,blue,yellow <span style= color:#0033cc>(4 points)</span>"
   ]
  },
  {
   "cell_type": "code",
   "execution_count": null,
   "metadata": {
    "id": "E7GJzmmS9xki"
   },
   "outputs": [],
   "source": []
  },
  {
   "cell_type": "markdown",
   "metadata": {
    "id": "vrPLcvrv9xkj"
   },
   "source": [
    "#### 7.3 Bar chart plot <span style= color:#0033cc>(10 points)</span>"
   ]
  },
  {
   "cell_type": "markdown",
   "metadata": {
    "id": "LQ_JHujM9xkl"
   },
   "source": [
    "1.Select first 5 rows of the dataframe (use df.iloc[]) "
   ]
  },
  {
   "cell_type": "markdown",
   "metadata": {
    "id": "406li2ru9xkm"
   },
   "source": [
    "2.Use <span style= color:blue>df.plot</span> function with kind='bar' and x='State' and y='Day_charge_pct' and color = my_colors to make a simple bar chart plot (of the day chart %)."
   ]
  },
  {
   "cell_type": "markdown",
   "metadata": {
    "id": "B2Jn0g049xkn"
   },
   "source": [
    "3.Use <span style= color:blue>plt.xlabel(\"State Code\")</span> and <span style= color:blue>plt.ylabel(\"Day Charge %\")</span> to label the corresponding axes"
   ]
  },
  {
   "cell_type": "code",
   "execution_count": null,
   "metadata": {
    "id": "4sWDGhMB9xkn"
   },
   "outputs": [],
   "source": []
  }
 ],
 "metadata": {
  "colab": {
   "name": "Telecom_Churn_Test.ipynb",
   "provenance": []
  },
  "kernelspec": {
   "display_name": "Python 3 (ipykernel)",
   "language": "python",
   "name": "python3"
  },
  "language_info": {
   "codemirror_mode": {
    "name": "ipython",
    "version": 3
   },
   "file_extension": ".py",
   "mimetype": "text/x-python",
   "name": "python",
   "nbconvert_exporter": "python",
   "pygments_lexer": "ipython3",
   "version": "3.13.3"
  }
 },
 "nbformat": 4,
 "nbformat_minor": 4
}
